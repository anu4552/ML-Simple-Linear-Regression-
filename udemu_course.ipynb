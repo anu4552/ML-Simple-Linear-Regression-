{
 "cells": [
  {
   "cell_type": "code",
   "execution_count": 1,
   "id": "e081edc7-6a38-421d-8ab6-a5cf49c51c30",
   "metadata": {},
   "outputs": [],
   "source": [
    "import numpy as np\n",
    "from sklearn.model_selection import train_test_split"
   ]
  },
  {
   "cell_type": "markdown",
   "id": "2b00a933-84a5-4a82-845b-c64db59d7767",
   "metadata": {},
   "source": [
    "## Generate some data to split"
   ]
  },
  {
   "cell_type": "code",
   "execution_count": 4,
   "id": "ba7ea24b-4d17-4c7c-83cf-3ad5c2a061a5",
   "metadata": {},
   "outputs": [
    {
     "data": {
      "text/plain": [
       "(array([  1,   2,   3,   4,   5,   6,   7,   8,   9,  10,  11,  12,  13,\n",
       "         14,  15,  16,  17,  18,  19,  20,  21,  22,  23,  24,  25,  26,\n",
       "         27,  28,  29,  30,  31,  32,  33,  34,  35,  36,  37,  38,  39,\n",
       "         40,  41,  42,  43,  44,  45,  46,  47,  48,  49,  50,  51,  52,\n",
       "         53,  54,  55,  56,  57,  58,  59,  60,  61,  62,  63,  64,  65,\n",
       "         66,  67,  68,  69,  70,  71,  72,  73,  74,  75,  76,  77,  78,\n",
       "         79,  80,  81,  82,  83,  84,  85,  86,  87,  88,  89,  90,  91,\n",
       "         92,  93,  94,  95,  96,  97,  98,  99, 100]),\n",
       " array([501, 502, 503, 504, 505, 506, 507, 508, 509, 510, 511, 512, 513,\n",
       "        514, 515, 516, 517, 518, 519, 520, 521, 522, 523, 524, 525, 526,\n",
       "        527, 528, 529, 530, 531, 532, 533, 534, 535, 536, 537, 538, 539,\n",
       "        540, 541, 542, 543, 544, 545, 546, 547, 548, 549, 550, 551, 552,\n",
       "        553, 554, 555, 556, 557, 558, 559, 560, 561, 562, 563, 564, 565,\n",
       "        566, 567, 568, 569, 570, 571, 572, 573, 574, 575, 576, 577, 578,\n",
       "        579, 580, 581, 582, 583, 584, 585, 586, 587, 588, 589, 590, 591,\n",
       "        592, 593, 594, 595, 596, 597, 598, 599, 600]))"
      ]
     },
     "execution_count": 4,
     "metadata": {},
     "output_type": "execute_result"
    }
   ],
   "source": [
    "a = np.arange(1,101)\n",
    "b = np.arange(501,601)\n",
    "a,b"
   ]
  },
  {
   "cell_type": "markdown",
   "id": "1ce7bbb6-fe96-40d1-aa14-42c203481ee2",
   "metadata": {},
   "source": [
    "## Split data"
   ]
  },
  {
   "cell_type": "code",
   "execution_count": 7,
   "id": "e2d961bf-44a7-4b7b-8746-d4372f3fd38f",
   "metadata": {},
   "outputs": [
    {
     "data": {
      "text/plain": [
       "[array([ 19,  60,  48,  23,  77,  45,  95,  64,  46,  55,  71,  52,  83,\n",
       "          6,  25,  73,  59,   8,  38,  67,   5,  14,  81,  86,  88,  74,\n",
       "         82,  11,  84,  42,  43,  98,  63,  18,  92,  15,  87,   2,  68,\n",
       "         58,  26,  62,  93,  79,  57,  97,  61,  70,  65,  85,  10,  76,\n",
       "         66,  72,   7,  80,  56,   4,  34,  33,  78,   3,   1,  20,  50,\n",
       "         12,  94,  36,  41,  99,   9,  91, 100,  51,  30]),\n",
       " array([35, 49, 47, 44, 75, 13, 27, 37, 96, 90, 16, 31, 32, 28, 39, 53, 40,\n",
       "        54, 21, 17, 89, 29, 24, 22, 69])]"
      ]
     },
     "execution_count": 7,
     "metadata": {},
     "output_type": "execute_result"
    }
   ],
   "source": [
    "train_test_split(a)"
   ]
  },
  {
   "cell_type": "code",
   "execution_count": 37,
   "id": "749283c4-0915-4ac7-814a-8f941a80a89f",
   "metadata": {},
   "outputs": [],
   "source": [
    "a_train, a_test, b_train, b_test = train_test_split(a,b, test_size = 0.2, random_state = 42)"
   ]
  },
  {
   "cell_type": "code",
   "execution_count": 39,
   "id": "13263c61-e28e-428c-b7b5-6fcce84d56d9",
   "metadata": {},
   "outputs": [
    {
     "data": {
      "text/plain": [
       "(array([ 56,  89,  27,  43,  70,  16,  41,  97,  10,  73,  12,  48,  86,\n",
       "         29,  94,   6,  67,  66,  36,  17,  50,  35,   8,  96,  28,  20,\n",
       "         82,  26,  63,  14,  25,   4,  18,  39,   9,  79,   7,  65,  37,\n",
       "         90,  57, 100,  55,  44,  51,  68,  47,  69,  62,  98,  80,  42,\n",
       "         59,  49,  99,  58,  76,  33,  95,  60,  64,  85,  38,  30,   2,\n",
       "         53,  22,   3,  24,  88,  92,  75,  87,  83,  21,  61,  72,  15,\n",
       "         93,  52]),\n",
       " array([84, 54, 71, 46, 45, 40, 23, 81, 11,  1, 19, 31, 74, 34, 91,  5, 77,\n",
       "        78, 13, 32]))"
      ]
     },
     "execution_count": 39,
     "metadata": {},
     "output_type": "execute_result"
    }
   ],
   "source": [
    "a_train,a_test"
   ]
  },
  {
   "cell_type": "code",
   "execution_count": 41,
   "id": "1dafcc22-96e5-4a31-9a68-ba6353db7992",
   "metadata": {},
   "outputs": [
    {
     "data": {
      "text/plain": [
       "((80,), (20,))"
      ]
     },
     "execution_count": 41,
     "metadata": {},
     "output_type": "execute_result"
    }
   ],
   "source": [
    "a_train.shape, a_test.shape"
   ]
  },
  {
   "cell_type": "code",
   "execution_count": 43,
   "id": "1fe13719-c0e9-418b-a59b-f6e765cb0872",
   "metadata": {},
   "outputs": [
    {
     "data": {
      "text/plain": [
       "(array([556, 589, 527, 543, 570, 516, 541, 597, 510, 573, 512, 548, 586,\n",
       "        529, 594, 506, 567, 566, 536, 517, 550, 535, 508, 596, 528, 520,\n",
       "        582, 526, 563, 514, 525, 504, 518, 539, 509, 579, 507, 565, 537,\n",
       "        590, 557, 600, 555, 544, 551, 568, 547, 569, 562, 598, 580, 542,\n",
       "        559, 549, 599, 558, 576, 533, 595, 560, 564, 585, 538, 530, 502,\n",
       "        553, 522, 503, 524, 588, 592, 575, 587, 583, 521, 561, 572, 515,\n",
       "        593, 552]),\n",
       " array([584, 554, 571, 546, 545, 540, 523, 581, 511, 501, 519, 531, 574,\n",
       "        534, 591, 505, 577, 578, 513, 532]))"
      ]
     },
     "execution_count": 43,
     "metadata": {},
     "output_type": "execute_result"
    }
   ],
   "source": [
    "b_train, b_test"
   ]
  },
  {
   "cell_type": "code",
   "execution_count": 45,
   "id": "bd4408f4-e2eb-4cbd-8d7a-920e887e9d4c",
   "metadata": {},
   "outputs": [
    {
     "data": {
      "text/plain": [
       "((80,), (20,))"
      ]
     },
     "execution_count": 45,
     "metadata": {},
     "output_type": "execute_result"
    }
   ],
   "source": [
    "b_train.shape, b_test.shape"
   ]
  },
  {
   "cell_type": "code",
   "execution_count": null,
   "id": "af9fd923-6f57-46ba-9f7e-a32a53165547",
   "metadata": {},
   "outputs": [],
   "source": []
  }
 ],
 "metadata": {
  "kernelspec": {
   "display_name": "Python 3 (ipykernel)",
   "language": "python",
   "name": "python3"
  },
  "language_info": {
   "codemirror_mode": {
    "name": "ipython",
    "version": 3
   },
   "file_extension": ".py",
   "mimetype": "text/x-python",
   "name": "python",
   "nbconvert_exporter": "python",
   "pygments_lexer": "ipython3",
   "version": "3.12.4"
  }
 },
 "nbformat": 4,
 "nbformat_minor": 5
}
